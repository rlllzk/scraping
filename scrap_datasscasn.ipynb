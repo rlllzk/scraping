{
 "cells": [
  {
   "cell_type": "code",
   "execution_count": null,
   "metadata": {},
   "outputs": [],
   "source": [
    "import csv\n",
    "from urllib.request import urlopen\n",
    "from bs4 import BeautifulSoup\n",
    " \n",
    "html = urlopen('https://data-sscasn.bkn.go.id/spf?jenisPengadaan=2&instansi=&tkPendidikan=40&pendidikan=5100144%2C5150071')\n",
    "bs = BeautifulSoup(html, 'html.parser')\n",
    "with open('C:/Users/05X/Desktop/cpns2021/datasscasn-S1SistemInformasi.csv', 'w',newline='') as f:\n",
    "    csv_writer = csv.writer(f)\n",
    "\n",
    "    data = bs.find('table', id=\"spf\")\n",
    "    data_rows = data.find_all('tr')\n",
    "    for tr in data_rows:\n",
    "        td = tr.find_all('td')\n",
    "        row = [i.text for i in td]\n",
    "        print(row)\n",
    "        csv_writer.writerow(row)"
   ]
  }
 ],
 "metadata": {
  "kernelspec": {
   "display_name": "Python 3",
   "language": "python",
   "name": "python3"
  },
  "language_info": {
   "codemirror_mode": {
    "name": "ipython",
    "version": 3
   },
   "file_extension": ".py",
   "mimetype": "text/x-python",
   "name": "python",
   "nbconvert_exporter": "python",
   "pygments_lexer": "ipython3",
   "version": "3.8.5"
  }
 },
 "nbformat": 4,
 "nbformat_minor": 4
}
